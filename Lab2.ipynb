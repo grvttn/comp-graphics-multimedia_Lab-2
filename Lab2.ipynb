{
 "cells": [
  {
   "cell_type": "code",
   "execution_count": 1,
   "id": "8b89cce1",
   "metadata": {},
   "outputs": [
    {
     "data": {
      "image/png": "[encoded data removed]",
      "text/plain": [
       "<Figure size 432x288 with 1 Axes>"
      ]
     },
     "metadata": {
      "needs_background": "light"
     },
     "output_type": "display_data"
    }
   ],
   "source": [
    "import pandas as pd                         # бібліотека для опрацьовування датафреймів\n",
    "import matplotlib.pyplot as plt             # бібліотека для малювання графіків\n",
    "\n",
    "name = \"DS6.txt\"\n",
    "DataFrame = pd.read_csv(name,               # назва датафрейму\n",
    "                        sep = \" \",          # роздільник\n",
    "                        header = None,      # читаємо фрейм без заголовку\n",
    "                        names = [\"X\", \"Y\"]) # назви першого і другого стовпця будуть відповідно \"Х\" і \"У\"\n",
    "CoordinateX = DataFrame[\"X\"]                # витягуємо дані першого стовця з датафрейму\n",
    "CoordinateY = DataFrame[\"Y\"]                # витягуємо дані другого стовпя з датафрему\n",
    "\n",
    "\n",
    "MainFigure = plt.figure()                    # створюємо об'єкт типу figure\n",
    "MainAxes = MainFigure.add_axes((0, 0, 1, 1)) # створємо об'єкт типу axes на передньо створеному MainFigure, причому графік буде займати всю площу об'єкта figure\n",
    "plt.axis('off')                              # виключаємо осі\n",
    "MainAxes.scatter(CoordinateY,                # заносимо на MainAxes точки з координатами х і у\n",
    "                CoordinateX,\n",
    "                color = 'black')             # колір точок буде чорним\n",
    "plt.xlim([0, 960])                           # розмір вікна 540*960 пкс\n",
    "plt.ylim([0, 540])\n",
    "plt.savefig('figure'+name[2]+'.png')                    # зберігаємо наше зображення під іменем \"figure6\" у форматі \"pgn\"\n",
    "plt.show()                                  # за необхідності можемо вивести зображення"
   ]
  },
  {
   "cell_type": "code",
   "execution_count": null,
   "id": "ed654adb",
   "metadata": {},
   "outputs": [],
   "source": []
  },
  {
   "cell_type": "code",
   "execution_count": null,
   "id": "9b59ac09",
   "metadata": {},
   "outputs": [],
   "source": []
  }
 ],
 "metadata": {
  "kernelspec": {
   "display_name": "Python 3",
   "language": "python",
   "name": "python3"
  },
  "language_info": {
   "codemirror_mode": {
    "name": "ipython",
    "version": 3
   },
   "file_extension": ".py",
   "mimetype": "text/x-python",
   "name": "python",
   "nbconvert_exporter": "python",
   "pygments_lexer": "ipython3",
   "version": "3.8.8"
  }
 },
 "nbformat": 4,
 "nbformat_minor": 5
}
